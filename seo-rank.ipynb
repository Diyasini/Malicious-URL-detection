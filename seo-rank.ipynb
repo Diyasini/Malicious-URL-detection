{
 "cells": [
  {
   "cell_type": "code",
   "execution_count": null,
   "id": "a3409064",
   "metadata": {},
   "outputs": [],
   "source": []
  },
  {
   "cell_type": "code",
   "execution_count": null,
   "id": "cdecbf5c",
   "metadata": {},
   "outputs": [],
   "source": []
  },
  {
   "cell_type": "code",
   "execution_count": null,
   "id": "162753c0",
   "metadata": {},
   "outputs": [],
   "source": [
    "\n"
   ]
  },
  {
   "cell_type": "code",
   "execution_count": 8,
   "id": "843544bd",
   "metadata": {},
   "outputs": [
    {
     "name": "stdout",
     "output_type": "stream",
     "text": [
      "Requirement already satisfied: ecommercetools in c:\\users\\baner\\anaconda3\\lib\\site-packages (0.42.9)\n",
      "Requirement already satisfied: httplib2>=0.15.0 in c:\\users\\baner\\anaconda3\\lib\\site-packages (from ecommercetools) (0.21.0)\n",
      "Requirement already satisfied: pycausalimpact in c:\\users\\baner\\anaconda3\\lib\\site-packages (from ecommercetools) (0.1.1)\n",
      "Requirement already satisfied: gapandas in c:\\users\\baner\\anaconda3\\lib\\site-packages (from ecommercetools) (1.0)\n",
      "Requirement already satisfied: requests in c:\\users\\baner\\anaconda3\\lib\\site-packages (from ecommercetools) (2.25.1)\n",
      "Requirement already satisfied: torch in c:\\users\\baner\\anaconda3\\lib\\site-packages (from ecommercetools) (1.13.1)\n",
      "Requirement already satisfied: numpy in c:\\users\\baner\\anaconda3\\lib\\site-packages (from ecommercetools) (1.21.5)\n",
      "Requirement already satisfied: pandas in c:\\users\\baner\\anaconda3\\lib\\site-packages (from ecommercetools) (1.4.2)\n",
      "Requirement already satisfied: requests-html in c:\\users\\baner\\anaconda3\\lib\\site-packages (from ecommercetools) (0.10.0)\n",
      "Requirement already satisfied: transformers in c:\\users\\baner\\anaconda3\\lib\\site-packages (from ecommercetools) (4.26.1)\n",
      "Requirement already satisfied: sklearn in c:\\users\\baner\\anaconda3\\lib\\site-packages (from ecommercetools) (0.0.post1)\n",
      "Requirement already satisfied: lifetimes in c:\\users\\baner\\anaconda3\\lib\\site-packages (from ecommercetools) (0.11.3)\n",
      "Requirement already satisfied: pyparsing!=3.0.0,!=3.0.1,!=3.0.2,!=3.0.3,<4,>=2.4.2 in c:\\users\\baner\\anaconda3\\lib\\site-packages (from httplib2>=0.15.0->ecommercetools) (3.0.4)\n",
      "Requirement already satisfied: google-api-python-client in c:\\users\\baner\\anaconda3\\lib\\site-packages (from gapandas->ecommercetools) (2.79.0)\n",
      "Requirement already satisfied: oauth2client in c:\\users\\baner\\anaconda3\\lib\\site-packages (from gapandas->ecommercetools) (4.1.3)\n",
      "Requirement already satisfied: google-auth<3.0.0dev,>=1.19.0 in c:\\users\\baner\\anaconda3\\lib\\site-packages (from google-api-python-client->gapandas->ecommercetools) (2.16.1)\n",
      "Requirement already satisfied: google-auth-httplib2>=0.1.0 in c:\\users\\baner\\anaconda3\\lib\\site-packages (from google-api-python-client->gapandas->ecommercetools) (0.1.0)\n",
      "Requirement already satisfied: google-api-core!=2.0.*,!=2.1.*,!=2.2.*,!=2.3.0,<3.0.0dev,>=1.31.5 in c:\\users\\baner\\anaconda3\\lib\\site-packages (from google-api-python-client->gapandas->ecommercetools) (2.11.0)\n",
      "Requirement already satisfied: uritemplate<5,>=3.0.1 in c:\\users\\baner\\anaconda3\\lib\\site-packages (from google-api-python-client->gapandas->ecommercetools) (4.1.1)\n",
      "Requirement already satisfied: googleapis-common-protos<2.0dev,>=1.56.2 in c:\\users\\baner\\anaconda3\\lib\\site-packages (from google-api-core!=2.0.*,!=2.1.*,!=2.2.*,!=2.3.0,<3.0.0dev,>=1.31.5->google-api-python-client->gapandas->ecommercetools) (1.58.0)\n",
      "Requirement already satisfied: protobuf!=3.20.0,!=3.20.1,!=4.21.0,!=4.21.1,!=4.21.2,!=4.21.3,!=4.21.4,!=4.21.5,<5.0.0dev,>=3.19.5 in c:\\users\\baner\\anaconda3\\lib\\site-packages (from google-api-core!=2.0.*,!=2.1.*,!=2.2.*,!=2.3.0,<3.0.0dev,>=1.31.5->google-api-python-client->gapandas->ecommercetools) (4.22.0)\n",
      "Requirement already satisfied: cachetools<6.0,>=2.0.0 in c:\\users\\baner\\anaconda3\\lib\\site-packages (from google-auth<3.0.0dev,>=1.19.0->google-api-python-client->gapandas->ecommercetools) (4.2.2)\n",
      "Requirement already satisfied: pyasn1-modules>=0.2.1 in c:\\users\\baner\\anaconda3\\lib\\site-packages (from google-auth<3.0.0dev,>=1.19.0->google-api-python-client->gapandas->ecommercetools) (0.2.8)\n",
      "Requirement already satisfied: six>=1.9.0 in c:\\users\\baner\\anaconda3\\lib\\site-packages (from google-auth<3.0.0dev,>=1.19.0->google-api-python-client->gapandas->ecommercetools) (1.16.0)\n",
      "Requirement already satisfied: rsa<5,>=3.1.4 in c:\\users\\baner\\anaconda3\\lib\\site-packages (from google-auth<3.0.0dev,>=1.19.0->google-api-python-client->gapandas->ecommercetools) (4.7.2)\n",
      "Requirement already satisfied: pyasn1<0.5.0,>=0.4.6 in c:\\users\\baner\\anaconda3\\lib\\site-packages (from pyasn1-modules>=0.2.1->google-auth<3.0.0dev,>=1.19.0->google-api-python-client->gapandas->ecommercetools) (0.4.8)\n",
      "Requirement already satisfied: chardet<5,>=3.0.2 in c:\\users\\baner\\anaconda3\\lib\\site-packages (from requests->ecommercetools) (4.0.0)\n",
      "Requirement already satisfied: urllib3<1.27,>=1.21.1 in c:\\users\\baner\\anaconda3\\lib\\site-packages (from requests->ecommercetools) (1.26.9)\n",
      "Requirement already satisfied: idna<3,>=2.5 in c:\\users\\baner\\anaconda3\\lib\\site-packages (from requests->ecommercetools) (2.10)\n",
      "Requirement already satisfied: certifi>=2017.4.17 in c:\\users\\baner\\anaconda3\\lib\\site-packages (from requests->ecommercetools) (2021.10.8)\n",
      "Requirement already satisfied: dill>=0.2.6 in c:\\users\\baner\\anaconda3\\lib\\site-packages (from lifetimes->ecommercetools) (0.3.6)\n",
      "Requirement already satisfied: scipy>=1.0.0 in c:\\users\\baner\\anaconda3\\lib\\site-packages (from lifetimes->ecommercetools) (1.7.3)\n",
      "Requirement already satisfied: autograd>=1.2.0 in c:\\users\\baner\\anaconda3\\lib\\site-packages (from lifetimes->ecommercetools) (1.5)\n",
      "Requirement already satisfied: future>=0.15.2 in c:\\users\\baner\\anaconda3\\lib\\site-packages (from autograd>=1.2.0->lifetimes->ecommercetools) (0.18.2)\n",
      "Requirement already satisfied: python-dateutil>=2.8.1 in c:\\users\\baner\\anaconda3\\lib\\site-packages (from pandas->ecommercetools) (2.8.2)\n",
      "Requirement already satisfied: pytz>=2020.1 in c:\\users\\baner\\anaconda3\\lib\\site-packages (from pandas->ecommercetools) (2021.3)\n",
      "Requirement already satisfied: jinja2>=2.10 in c:\\users\\baner\\appdata\\roaming\\python\\python39\\site-packages (from pycausalimpact->ecommercetools) (3.1.2)\n",
      "Requirement already satisfied: statsmodels>=0.11.0 in c:\\users\\baner\\anaconda3\\lib\\site-packages (from pycausalimpact->ecommercetools) (0.13.2)\n",
      "Requirement already satisfied: matplotlib>=2.2.3 in c:\\users\\baner\\anaconda3\\lib\\site-packages (from pycausalimpact->ecommercetools) (3.5.1)\n",
      "Requirement already satisfied: MarkupSafe>=2.0 in c:\\users\\baner\\anaconda3\\lib\\site-packages (from jinja2>=2.10->pycausalimpact->ecommercetools) (2.0.1)\n",
      "Requirement already satisfied: cycler>=0.10 in c:\\users\\baner\\anaconda3\\lib\\site-packages (from matplotlib>=2.2.3->pycausalimpact->ecommercetools) (0.11.0)\n",
      "Requirement already satisfied: kiwisolver>=1.0.1 in c:\\users\\baner\\anaconda3\\lib\\site-packages (from matplotlib>=2.2.3->pycausalimpact->ecommercetools) (1.3.2)\n",
      "Requirement already satisfied: fonttools>=4.22.0 in c:\\users\\baner\\anaconda3\\lib\\site-packages (from matplotlib>=2.2.3->pycausalimpact->ecommercetools) (4.25.0)\n",
      "Requirement already satisfied: packaging>=20.0 in c:\\users\\baner\\anaconda3\\lib\\site-packages (from matplotlib>=2.2.3->pycausalimpact->ecommercetools) (21.3)\n",
      "Requirement already satisfied: pillow>=6.2.0 in c:\\users\\baner\\anaconda3\\lib\\site-packages (from matplotlib>=2.2.3->pycausalimpact->ecommercetools) (9.0.1)\n",
      "Requirement already satisfied: patsy>=0.5.2 in c:\\users\\baner\\anaconda3\\lib\\site-packages (from statsmodels>=0.11.0->pycausalimpact->ecommercetools) (0.5.2)\n",
      "Requirement already satisfied: w3lib in c:\\users\\baner\\anaconda3\\lib\\site-packages (from requests-html->ecommercetools) (1.21.0)\n",
      "Requirement already satisfied: pyquery in c:\\users\\baner\\anaconda3\\lib\\site-packages (from requests-html->ecommercetools) (2.0.0)\n",
      "Requirement already satisfied: pyppeteer>=0.0.14 in c:\\users\\baner\\anaconda3\\lib\\site-packages (from requests-html->ecommercetools) (1.0.2)\n",
      "Requirement already satisfied: bs4 in c:\\users\\baner\\anaconda3\\lib\\site-packages (from requests-html->ecommercetools) (0.0.1)\n",
      "Requirement already satisfied: parse in c:\\users\\baner\\anaconda3\\lib\\site-packages (from requests-html->ecommercetools) (1.19.0)\n",
      "Requirement already satisfied: fake-useragent in c:\\users\\baner\\anaconda3\\lib\\site-packages (from requests-html->ecommercetools) (1.1.1)\n",
      "Requirement already satisfied: websockets<11.0,>=10.0 in c:\\users\\baner\\anaconda3\\lib\\site-packages (from pyppeteer>=0.0.14->requests-html->ecommercetools) (10.4)\n",
      "Requirement already satisfied: importlib-metadata>=1.4 in c:\\users\\baner\\anaconda3\\lib\\site-packages (from pyppeteer>=0.0.14->requests-html->ecommercetools) (4.11.3)\n",
      "Requirement already satisfied: appdirs<2.0.0,>=1.4.3 in c:\\users\\baner\\anaconda3\\lib\\site-packages (from pyppeteer>=0.0.14->requests-html->ecommercetools) (1.4.4)\n",
      "Requirement already satisfied: pyee<9.0.0,>=8.1.0 in c:\\users\\baner\\anaconda3\\lib\\site-packages (from pyppeteer>=0.0.14->requests-html->ecommercetools) (8.2.2)\n",
      "Requirement already satisfied: tqdm<5.0.0,>=4.42.1 in c:\\users\\baner\\anaconda3\\lib\\site-packages (from pyppeteer>=0.0.14->requests-html->ecommercetools) (4.64.0)\n",
      "Requirement already satisfied: zipp>=0.5 in c:\\users\\baner\\anaconda3\\lib\\site-packages (from importlib-metadata>=1.4->pyppeteer>=0.0.14->requests-html->ecommercetools) (3.7.0)\n",
      "Requirement already satisfied: colorama in c:\\users\\baner\\anaconda3\\lib\\site-packages (from tqdm<5.0.0,>=4.42.1->pyppeteer>=0.0.14->requests-html->ecommercetools) (0.4.4)\n",
      "Requirement already satisfied: beautifulsoup4 in c:\\users\\baner\\anaconda3\\lib\\site-packages (from bs4->requests-html->ecommercetools) (4.9.3)\n",
      "Requirement already satisfied: soupsieve>1.2 in c:\\users\\baner\\anaconda3\\lib\\site-packages (from beautifulsoup4->bs4->requests-html->ecommercetools) (2.3.1)\n",
      "Requirement already satisfied: importlib-resources>=5.0 in c:\\users\\baner\\anaconda3\\lib\\site-packages (from fake-useragent->requests-html->ecommercetools) (5.12.0)\n",
      "Requirement already satisfied: lxml>=2.1 in c:\\users\\baner\\anaconda3\\lib\\site-packages (from pyquery->requests-html->ecommercetools) (4.8.0)\n",
      "Requirement already satisfied: cssselect>=1.2.0 in c:\\users\\baner\\anaconda3\\lib\\site-packages (from pyquery->requests-html->ecommercetools) (1.2.0)\n",
      "Requirement already satisfied: typing-extensions in c:\\users\\baner\\anaconda3\\lib\\site-packages (from torch->ecommercetools) (4.1.1)\n",
      "Requirement already satisfied: huggingface-hub<1.0,>=0.11.0 in c:\\users\\baner\\anaconda3\\lib\\site-packages (from transformers->ecommercetools) (0.12.1)\n",
      "Requirement already satisfied: regex!=2019.12.17 in c:\\users\\baner\\anaconda3\\lib\\site-packages (from transformers->ecommercetools) (2022.3.15)\n",
      "Requirement already satisfied: pyyaml>=5.1 in c:\\users\\baner\\anaconda3\\lib\\site-packages (from transformers->ecommercetools) (6.0)\n",
      "Requirement already satisfied: tokenizers!=0.11.3,<0.14,>=0.11.1 in c:\\users\\baner\\anaconda3\\lib\\site-packages (from transformers->ecommercetools) (0.13.2)\n",
      "Requirement already satisfied: filelock in c:\\users\\baner\\anaconda3\\lib\\site-packages (from transformers->ecommercetools) (3.6.0)\n"
     ]
    }
   ],
   "source": [
    "!pip3 install --upgrade ecommercetools"
   ]
  },
  {
   "cell_type": "code",
   "execution_count": 9,
   "id": "aff19f94",
   "metadata": {},
   "outputs": [],
   "source": [
    "import time\n",
    "import datetime\n",
    "import pandas as pd\n",
    "from ecommercetools import seo\n",
    "import urllib.request\n",
    "from urllib.parse import urlparse\n",
    "from bs4 import BeautifulSoup"
   ]
  },
  {
   "cell_type": "code",
   "execution_count": 10,
   "id": "8bc46ec1",
   "metadata": {},
   "outputs": [
    {
     "name": "stdout",
     "output_type": "stream",
     "text": [
      "Description:  A Computer Science portal for geeks. It contains well written, well thought and well explained computer science and programming articles, quizzes and practice/competitive programming/company interview Questions.\n",
      "Keywords:  Data Structures,Algorithms,Python,Java,C,C++,JavaScript,Android Development,SQL,Data Science,Machine Learning,PHP,Web Development,System Design,Tutorial,Technical Blogs,Interview Experience,Interview Preparation,Programming,Competitive Programming,SDE Sheet,Job-a-thon,Coding Contests,GATE CSE,HTML,CSS,React,NodeJS,Placement,Aptitude,Quiz,Computer Science,Programming Examples,GeeksforGeeks Courses,Puzzles\n",
      "Title:  How to get Rank of page in google search results using BeautifulSoup ? - GeeksforGeeks\n"
     ]
    }
   ],
   "source": [
    "response = urllib.request.urlopen(\"https://www.geeksforgeeks.org/how-to-get-rank-of-page-in-google-search-results-using-beautifulsoup/\")\n",
    "soup = BeautifulSoup(response,'html.parser',from_encoding=response.info().get_param('charset'))\n",
    "keywords=\"\"\n",
    "if soup.findAll(\"meta\", attrs={\"name\": \"description\"}):\n",
    "    description=soup.find(\"meta\", attrs={\"name\": \"description\"}).get(\"content\")\n",
    "    print(\"Description: \",description)\n",
    "else:\n",
    "    print(\"Not found\")\n",
    "if soup.findAll(\"meta\", attrs={\"name\": \"keywords\"}):\n",
    "    keywords=soup.find(\"meta\", attrs={\"name\": \"keywords\"}).get(\"content\")\n",
    "    print(\"Keywords: \",keywords)\n",
    "else:\n",
    "    print(\"Not Found\")\n",
    "if soup.findAll(\"title\"):\n",
    "    title=soup.find(\"title\").string\n",
    "    print(\"Title: \",title)\n",
    "else:\n",
    "    print(\"Not Found\")\n"
   ]
  },
  {
   "cell_type": "code",
   "execution_count": 11,
   "id": "d39cf4fa",
   "metadata": {},
   "outputs": [],
   "source": [
    "df=seo.get_serps(\"Data Structures\")"
   ]
  },
  {
   "cell_type": "code",
   "execution_count": 12,
   "id": "c0c6a7b8",
   "metadata": {},
   "outputs": [
    {
     "data": {
      "text/html": [
       "<div>\n",
       "<style scoped>\n",
       "    .dataframe tbody tr th:only-of-type {\n",
       "        vertical-align: middle;\n",
       "    }\n",
       "\n",
       "    .dataframe tbody tr th {\n",
       "        vertical-align: top;\n",
       "    }\n",
       "\n",
       "    .dataframe thead th {\n",
       "        text-align: right;\n",
       "    }\n",
       "</style>\n",
       "<table border=\"1\" class=\"dataframe\">\n",
       "  <thead>\n",
       "    <tr style=\"text-align: right;\">\n",
       "      <th></th>\n",
       "      <th>position</th>\n",
       "      <th>title</th>\n",
       "      <th>link</th>\n",
       "      <th>text</th>\n",
       "      <th>bold</th>\n",
       "    </tr>\n",
       "  </thead>\n",
       "  <tbody>\n",
       "    <tr>\n",
       "      <th>0</th>\n",
       "      <td>1</td>\n",
       "      <td>Data Structures\\nGeeksforGeeks\\nhttps://www.ge...</td>\n",
       "      <td>https://www.geeksforgeeks.org/data-structures/</td>\n",
       "      <td>6 days ago — A data structure is a storage tha...</td>\n",
       "      <td>data structure is a storage that is used to st...</td>\n",
       "    </tr>\n",
       "    <tr>\n",
       "      <th>1</th>\n",
       "      <td>2</td>\n",
       "      <td>Data Structures | DS Tutorial\\nJavatpoint\\nhtt...</td>\n",
       "      <td>https://www.javatpoint.com/data-structure-tuto...</td>\n",
       "      <td>A data structure is a way of organizing the da...</td>\n",
       "      <td>data structure is a way of organizing the data...</td>\n",
       "    </tr>\n",
       "    <tr>\n",
       "      <th>2</th>\n",
       "      <td>3</td>\n",
       "      <td>Data structure\\nWikipedia\\nhttps://en.wikipedi...</td>\n",
       "      <td>https://en.wikipedia.org/wiki/Data_structure</td>\n",
       "      <td>In computer science, a data structure is a dat...</td>\n",
       "      <td>data structure is a data organization, managem...</td>\n",
       "    </tr>\n",
       "    <tr>\n",
       "      <th>3</th>\n",
       "      <td>4</td>\n",
       "      <td>Data Structure and Types\\nProgramiz\\nhttps://w...</td>\n",
       "      <td>https://www.programiz.com/dsa/data-structure-t...</td>\n",
       "      <td>Data structure is a storage that is used to st...</td>\n",
       "      <td>data structure is a storage that is used to st...</td>\n",
       "    </tr>\n",
       "    <tr>\n",
       "      <th>4</th>\n",
       "      <td>5</td>\n",
       "      <td>What are Data Structures? - Definition from Wh...</td>\n",
       "      <td>https://www.techtarget.com/searchdatamanagemen...</td>\n",
       "      <td>A data structure is a specialized format for o...</td>\n",
       "      <td>data structure is a specialized format for org...</td>\n",
       "    </tr>\n",
       "    <tr>\n",
       "      <th>5</th>\n",
       "      <td>6</td>\n",
       "      <td>8 Common Data Structures every Programmer must...</td>\n",
       "      <td>https://towardsdatascience.com/8-common-data-s...</td>\n",
       "      <td>Data Structures are a specialized means of org...</td>\n",
       "      <td>data structures are a specialized means of org...</td>\n",
       "    </tr>\n",
       "    <tr>\n",
       "      <th>6</th>\n",
       "      <td>7</td>\n",
       "      <td>Data Structures and Algorithms Tutorial - Scal...</td>\n",
       "      <td>https://www.scaler.com/topics/data-structures/</td>\n",
       "      <td>Data Structure is a way to organize and store ...</td>\n",
       "      <td>data structure is a way to organize and store ...</td>\n",
       "    </tr>\n",
       "    <tr>\n",
       "      <th>7</th>\n",
       "      <td>8</td>\n",
       "      <td>Data Structures\\nCoursera\\nhttps://www.courser...</td>\n",
       "      <td>https://www.coursera.org/learn/data-structures</td>\n",
       "      <td>In this online course, we consider the common ...</td>\n",
       "      <td>data structures that are used in various compu...</td>\n",
       "    </tr>\n",
       "    <tr>\n",
       "      <th>8</th>\n",
       "      <td>9</td>\n",
       "      <td>Introduction to Data Structure - W3schools\\nw3...</td>\n",
       "      <td>https://www.w3schools.in/data-structures/intro</td>\n",
       "      <td>In the context of computers, the data structur...</td>\n",
       "      <td>data structure is a specific way of storing an...</td>\n",
       "    </tr>\n",
       "    <tr>\n",
       "      <th>9</th>\n",
       "      <td>10</td>\n",
       "      <td>Data Structures in Java | Beginners Guide |202...</td>\n",
       "      <td>https://www.mygreatlearning.com/blog/data-stru...</td>\n",
       "      <td>Data Structures in Java: This refers to a way ...</td>\n",
       "      <td>data structures in java: this refers to a way ...</td>\n",
       "    </tr>\n",
       "  </tbody>\n",
       "</table>\n",
       "</div>"
      ],
      "text/plain": [
       "   position                                              title  \\\n",
       "0         1  Data Structures\\nGeeksforGeeks\\nhttps://www.ge...   \n",
       "1         2  Data Structures | DS Tutorial\\nJavatpoint\\nhtt...   \n",
       "2         3  Data structure\\nWikipedia\\nhttps://en.wikipedi...   \n",
       "3         4  Data Structure and Types\\nProgramiz\\nhttps://w...   \n",
       "4         5  What are Data Structures? - Definition from Wh...   \n",
       "5         6  8 Common Data Structures every Programmer must...   \n",
       "6         7  Data Structures and Algorithms Tutorial - Scal...   \n",
       "7         8  Data Structures\\nCoursera\\nhttps://www.courser...   \n",
       "8         9  Introduction to Data Structure - W3schools\\nw3...   \n",
       "9        10  Data Structures in Java | Beginners Guide |202...   \n",
       "\n",
       "                                                link  \\\n",
       "0     https://www.geeksforgeeks.org/data-structures/   \n",
       "1  https://www.javatpoint.com/data-structure-tuto...   \n",
       "2       https://en.wikipedia.org/wiki/Data_structure   \n",
       "3  https://www.programiz.com/dsa/data-structure-t...   \n",
       "4  https://www.techtarget.com/searchdatamanagemen...   \n",
       "5  https://towardsdatascience.com/8-common-data-s...   \n",
       "6     https://www.scaler.com/topics/data-structures/   \n",
       "7     https://www.coursera.org/learn/data-structures   \n",
       "8     https://www.w3schools.in/data-structures/intro   \n",
       "9  https://www.mygreatlearning.com/blog/data-stru...   \n",
       "\n",
       "                                                text  \\\n",
       "0  6 days ago — A data structure is a storage tha...   \n",
       "1  A data structure is a way of organizing the da...   \n",
       "2  In computer science, a data structure is a dat...   \n",
       "3  Data structure is a storage that is used to st...   \n",
       "4  A data structure is a specialized format for o...   \n",
       "5  Data Structures are a specialized means of org...   \n",
       "6  Data Structure is a way to organize and store ...   \n",
       "7  In this online course, we consider the common ...   \n",
       "8  In the context of computers, the data structur...   \n",
       "9  Data Structures in Java: This refers to a way ...   \n",
       "\n",
       "                                                bold  \n",
       "0  data structure is a storage that is used to st...  \n",
       "1  data structure is a way of organizing the data...  \n",
       "2  data structure is a data organization, managem...  \n",
       "3  data structure is a storage that is used to st...  \n",
       "4  data structure is a specialized format for org...  \n",
       "5  data structures are a specialized means of org...  \n",
       "6  data structure is a way to organize and store ...  \n",
       "7  data structures that are used in various compu...  \n",
       "8  data structure is a specific way of storing an...  \n",
       "9  data structures in java: this refers to a way ...  "
      ]
     },
     "execution_count": 12,
     "metadata": {},
     "output_type": "execute_result"
    }
   ],
   "source": [
    "df.head(10)"
   ]
  },
  {
   "cell_type": "code",
   "execution_count": 13,
   "id": "e8714987",
   "metadata": {},
   "outputs": [],
   "source": []
  },
  {
   "cell_type": "code",
   "execution_count": 14,
   "id": "8c480075",
   "metadata": {},
   "outputs": [],
   "source": []
  },
  {
   "cell_type": "code",
   "execution_count": 4,
   "id": "c748a07e",
   "metadata": {},
   "outputs": [
    {
     "ename": "NameError",
     "evalue": "name 'df' is not defined",
     "output_type": "error",
     "traceback": [
      "\u001b[1;31m---------------------------------------------------------------------------\u001b[0m",
      "\u001b[1;31mNameError\u001b[0m                                 Traceback (most recent call last)",
      "Input \u001b[1;32mIn [4]\u001b[0m, in \u001b[0;36m<cell line: 1>\u001b[1;34m()\u001b[0m\n\u001b[1;32m----> 1\u001b[0m \u001b[43mdf\u001b[49m\u001b[38;5;241m.\u001b[39mhead(\u001b[38;5;241m5\u001b[39m)\n",
      "\u001b[1;31mNameError\u001b[0m: name 'df' is not defined"
     ]
    }
   ],
   "source": []
  },
  {
   "cell_type": "code",
   "execution_count": 9,
   "id": "ca96f9b0",
   "metadata": {},
   "outputs": [
    {
     "ename": "AttributeError",
     "evalue": "'NoneType' object has no attribute 'attrs'",
     "output_type": "error",
     "traceback": [
      "\u001b[1;31m---------------------------------------------------------------------------\u001b[0m",
      "\u001b[1;31mAttributeError\u001b[0m                            Traceback (most recent call last)",
      "Input \u001b[1;32mIn [9]\u001b[0m, in \u001b[0;36m<cell line: 2>\u001b[1;34m()\u001b[0m\n\u001b[0;32m      1\u001b[0m domain \u001b[38;5;241m=\u001b[39m \u001b[38;5;124m'\u001b[39m\u001b[38;5;124mhttps://practicaldatascience.co.uk\u001b[39m\u001b[38;5;124m'\u001b[39m\n\u001b[1;32m----> 2\u001b[0m df \u001b[38;5;241m=\u001b[39m \u001b[43mrank_checker\u001b[49m\u001b[43m(\u001b[49m\u001b[43mkeywords\u001b[49m\u001b[43m,\u001b[49m\u001b[43m \u001b[49m\u001b[43mdomain\u001b[49m\u001b[43m)\u001b[49m\n",
      "Input \u001b[1;32mIn [7]\u001b[0m, in \u001b[0;36mrank_checker\u001b[1;34m(keywords, domain, sleep, verbose)\u001b[0m\n\u001b[0;32m     19\u001b[0m \u001b[38;5;28;01mif\u001b[39;00m verbose:\n\u001b[0;32m     20\u001b[0m     \u001b[38;5;28mprint\u001b[39m(\u001b[38;5;124m'\u001b[39m\u001b[38;5;124mFetching:\u001b[39m\u001b[38;5;124m'\u001b[39m, keyword)\n\u001b[1;32m---> 22\u001b[0m data \u001b[38;5;241m=\u001b[39m get_top_rank(\u001b[43mseo\u001b[49m\u001b[38;5;241;43m.\u001b[39;49m\u001b[43mget_serps\u001b[49m\u001b[43m(\u001b[49m\u001b[43mkeyword\u001b[49m\u001b[43m,\u001b[49m\u001b[43m \u001b[49m\u001b[43mpages\u001b[49m\u001b[38;5;241;43m=\u001b[39;49m\u001b[38;5;241;43m5\u001b[39;49m\u001b[43m)\u001b[49m, domain)\n\u001b[0;32m     23\u001b[0m time\u001b[38;5;241m.\u001b[39msleep(\u001b[38;5;241m2\u001b[39m)\n\u001b[0;32m     25\u001b[0m \u001b[38;5;28;01mif\u001b[39;00m data:\n",
      "File \u001b[1;32m~\\anaconda3\\lib\\site-packages\\ecommercetools\\seo\\google_search.py:252\u001b[0m, in \u001b[0;36mget_serps\u001b[1;34m(query, output, pages, domain, host_language)\u001b[0m\n\u001b[0;32m    250\u001b[0m response \u001b[38;5;241m=\u001b[39m _get_results(query, domain\u001b[38;5;241m=\u001b[39mdomain, hl\u001b[38;5;241m=\u001b[39mhost_language)\n\u001b[0;32m    251\u001b[0m results \u001b[38;5;241m=\u001b[39m _parse_search_results(response)\n\u001b[1;32m--> 252\u001b[0m next_page \u001b[38;5;241m=\u001b[39m \u001b[43m_get_next_page\u001b[49m\u001b[43m(\u001b[49m\u001b[43mresponse\u001b[49m\u001b[43m,\u001b[49m\u001b[43m \u001b[49m\u001b[43mdomain\u001b[49m\u001b[38;5;241;43m=\u001b[39;49m\u001b[43mdomain\u001b[49m\u001b[43m,\u001b[49m\u001b[43m \u001b[49m\u001b[43mhl\u001b[49m\u001b[38;5;241;43m=\u001b[39;49m\u001b[43mhost_language\u001b[49m\u001b[43m)\u001b[49m\n\u001b[0;32m    254\u001b[0m page \u001b[38;5;241m=\u001b[39m \u001b[38;5;241m1\u001b[39m\n\u001b[0;32m    255\u001b[0m \u001b[38;5;28;01mwhile\u001b[39;00m page \u001b[38;5;241m<\u001b[39m\u001b[38;5;241m=\u001b[39m pages:\n",
      "File \u001b[1;32m~\\anaconda3\\lib\\site-packages\\ecommercetools\\seo\\google_search.py:154\u001b[0m, in \u001b[0;36m_get_next_page\u001b[1;34m(response, domain, hl)\u001b[0m\n\u001b[0;32m    141\u001b[0m \u001b[38;5;250m\u001b[39m\u001b[38;5;124;03m\"\"\"Get the URL for the next page of results.\u001b[39;00m\n\u001b[0;32m    142\u001b[0m \n\u001b[0;32m    143\u001b[0m \u001b[38;5;124;03mArgs:\u001b[39;00m\n\u001b[1;32m   (...)\u001b[0m\n\u001b[0;32m    150\u001b[0m \n\u001b[0;32m    151\u001b[0m \u001b[38;5;124;03m\"\"\"\u001b[39;00m\n\u001b[0;32m    153\u001b[0m css_identifier_next \u001b[38;5;241m=\u001b[39m \u001b[38;5;124m\"\u001b[39m\u001b[38;5;124m#pnnext\u001b[39m\u001b[38;5;124m\"\u001b[39m\n\u001b[1;32m--> 154\u001b[0m next_page_url \u001b[38;5;241m=\u001b[39m \u001b[43mresponse\u001b[49m\u001b[38;5;241;43m.\u001b[39;49m\u001b[43mhtml\u001b[49m\u001b[38;5;241;43m.\u001b[39;49m\u001b[43mfind\u001b[49m\u001b[43m(\u001b[49m\u001b[43mcss_identifier_next\u001b[49m\u001b[43m,\u001b[49m\u001b[43m \u001b[49m\u001b[43mfirst\u001b[49m\u001b[38;5;241;43m=\u001b[39;49m\u001b[38;5;28;43;01mTrue\u001b[39;49;00m\u001b[43m)\u001b[49m\u001b[38;5;241;43m.\u001b[39;49m\u001b[43mattrs\u001b[49m[\u001b[38;5;124m'\u001b[39m\u001b[38;5;124mhref\u001b[39m\u001b[38;5;124m'\u001b[39m]\n\u001b[0;32m    155\u001b[0m next_page \u001b[38;5;241m=\u001b[39m \u001b[38;5;124m\"\u001b[39m\u001b[38;5;124mhttps://www.\u001b[39m\u001b[38;5;124m\"\u001b[39m \u001b[38;5;241m+\u001b[39m domain \u001b[38;5;241m+\u001b[39m next_page_url \u001b[38;5;241m+\u001b[39m \u001b[38;5;124m\"\u001b[39m\u001b[38;5;124m&hl=\u001b[39m\u001b[38;5;124m\"\u001b[39m \u001b[38;5;241m+\u001b[39m hl\n\u001b[0;32m    157\u001b[0m \u001b[38;5;28;01mreturn\u001b[39;00m next_page\n",
      "\u001b[1;31mAttributeError\u001b[0m: 'NoneType' object has no attribute 'attrs'"
     ]
    }
   ],
   "source": []
  },
  {
   "cell_type": "code",
   "execution_count": 16,
   "id": "ab508036",
   "metadata": {},
   "outputs": [
    {
     "name": "stdout",
     "output_type": "stream",
     "text": [
      "The rank of https://www.scaler.com/ is 2.\n"
     ]
    }
   ],
   "source": [
    "\n"
   ]
  },
  {
   "cell_type": "code",
   "execution_count": 19,
   "id": "335bf943",
   "metadata": {},
   "outputs": [
    {
     "name": "stdout",
     "output_type": "stream",
     "text": [
      "                       url                                      indexed_pages\n",
      "0  cybercrime-tracker.net/  1060440004444060080030594101272117075712012230...\n"
     ]
    }
   ],
   "source": []
  },
  {
   "cell_type": "code",
   "execution_count": null,
   "id": "f6de983d",
   "metadata": {},
   "outputs": [],
   "source": []
  }
 ],
 "metadata": {
  "kernelspec": {
   "display_name": "Python 3 (ipykernel)",
   "language": "python",
   "name": "python3"
  },
  "language_info": {
   "codemirror_mode": {
    "name": "ipython",
    "version": 3
   },
   "file_extension": ".py",
   "mimetype": "text/x-python",
   "name": "python",
   "nbconvert_exporter": "python",
   "pygments_lexer": "ipython3",
   "version": "3.9.12"
  }
 },
 "nbformat": 4,
 "nbformat_minor": 5
}
